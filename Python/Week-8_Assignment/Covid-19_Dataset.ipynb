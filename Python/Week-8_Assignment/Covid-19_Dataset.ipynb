{
 "cells": [
  {
   "cell_type": "markdown",
   "id": "532553df",
   "metadata": {},
   "source": [
    "## Data Loading and Basic Exploration\n",
    "Load it into a pandas DataFrame\n",
    "Examine the first few rows and data structure"
   ]
  },
  {
   "cell_type": "code",
   "execution_count": null,
   "id": "dd42bd20",
   "metadata": {},
   "outputs": [],
   "source": [
    "import pandas as pd\n",
    "df = pd.read_csv(\"metadata.csv\", low_memory=False)\n",
    "print(df.head())"
   ]
  },
  {
   "cell_type": "markdown",
   "id": "b489819f",
   "metadata": {},
   "source": [
    "Checking the DataFrame dimensions (rows, columns)"
   ]
  },
  {
   "cell_type": "code",
   "execution_count": null,
   "id": "5ce14668",
   "metadata": {},
   "outputs": [],
   "source": [
    "print(\"Shape (rows, columns):\", df.shape)"
   ]
  },
  {
   "cell_type": "markdown",
   "id": "0c5fa896",
   "metadata": {},
   "source": [
    "Identifying data types of each column"
   ]
  },
  {
   "cell_type": "code",
   "execution_count": null,
   "id": "bdc0f349",
   "metadata": {},
   "outputs": [],
   "source": [
    "print(\"Column data types:\")\n",
    "print(df.dtypes)"
   ]
  },
  {
   "cell_type": "markdown",
   "id": "793908d0",
   "metadata": {},
   "source": [
    "Checking for missing values in important columns"
   ]
  },
  {
   "cell_type": "code",
   "execution_count": null,
   "id": "c389a570",
   "metadata": {},
   "outputs": [],
   "source": [
    "important_cols = [\"title\", \"abstract\", \"publish_time\", \"journal\", \"authors\"]\n",
    "print(\"Missing values in important columns:\")\n",
    "print(df[important_cols].isnull().sum())"
   ]
  },
  {
   "cell_type": "markdown",
   "id": "a046361e",
   "metadata": {},
   "source": [
    "Generating basic statistics for numerical columns"
   ]
  },
  {
   "cell_type": "code",
   "execution_count": null,
   "id": "f73e4d4a",
   "metadata": {},
   "outputs": [],
   "source": [
    "print(\"Basic statistics for numerical columns:\")\n",
    "print(df.describe())"
   ]
  },
  {
   "cell_type": "markdown",
   "id": "c55d3d83",
   "metadata": {},
   "source": [
    "## Part 2: Data Cleaning and Preparation\n",
    "\n",
    "Identifying columns with many missing values"
   ]
  },
  {
   "cell_type": "code",
   "execution_count": null,
   "id": "1b39bf81",
   "metadata": {},
   "outputs": [],
   "source": [
    "missing_counts = df.isnull().sum().sort_values(ascending=False)\n",
    "print(\"Missing values per column:\")\n",
    "print(missing_counts.head(20)) "
   ]
  },
  {
   "cell_type": "markdown",
   "id": "9ddf3fbb",
   "metadata": {},
   "source": [
    "Dropping columns with many missing values"
   ]
  },
  {
   "cell_type": "code",
   "execution_count": null,
   "id": "72ac7996",
   "metadata": {},
   "outputs": [],
   "source": [
    "threshold = 0.8\n",
    "cols_to_drop = missing_counts[missing_counts > threshold * len(df)].index\n",
    "df_cleaned = df.drop(columns=cols_to_drop)\n",
    "print(f\"Dropped {len(cols_to_drop)} columns due to many missing values.\")\n",
    "df_cleaned = df_cleaned.dropna(subset=[\"title\", \"abstract\"], how=\"all\")"
   ]
  },
  {
   "cell_type": "markdown",
   "id": "6e674e01",
   "metadata": {},
   "source": [
    "Creating a cleaned version of the dataset"
   ]
  },
  {
   "cell_type": "code",
   "execution_count": null,
   "id": "6993d429",
   "metadata": {},
   "outputs": [],
   "source": [
    "df_cleaned.to_csv(\"metadata_cleaned.csv\", index=False)\n",
    "print(\"Cleaned dataset saved as metadata_cleaned.csv\")"
   ]
  },
  {
   "cell_type": "markdown",
   "id": "ed75c1dc",
   "metadata": {},
   "source": [
    "Convert date columns to datetime format"
   ]
  },
  {
   "cell_type": "code",
   "execution_count": null,
   "id": "f70619a0",
   "metadata": {},
   "outputs": [],
   "source": [
    "# Convert publish_time to datetime\n",
    "df_cleaned[\"publish_time\"] = pd.to_datetime(df_cleaned[\"publish_time\"], errors=\"coerce\")\n",
    "print(df_cleaned[\"publish_time\"].head())"
   ]
  },
  {
   "cell_type": "markdown",
   "id": "44088c95",
   "metadata": {},
   "source": [
    "Extracting year from publication date for time-based analysis"
   ]
  },
  {
   "cell_type": "code",
   "execution_count": null,
   "id": "cd1c7f38",
   "metadata": {},
   "outputs": [],
   "source": [
    "df_cleaned[\"year\"] = df_cleaned[\"publish_time\"].dt.year.astype(\"Int64\")\n",
    "print(df_cleaned[[\"publish_time\", \"year\"]].sample(5))"
   ]
  },
  {
   "cell_type": "markdown",
   "id": "c55f657f",
   "metadata": {},
   "source": [
    "## Data Analysis and Visualization\n",
    "Count papers by publication year"
   ]
  },
  {
   "cell_type": "code",
   "execution_count": null,
   "id": "889d6e7a",
   "metadata": {},
   "outputs": [],
   "source": [
    "papers_per_year = df_cleaned[\"year\"].value_counts().sort_index()\n",
    "print(papers_per_year)"
   ]
  },
  {
   "cell_type": "markdown",
   "id": "f65898c0",
   "metadata": {},
   "source": [
    "Identifying top journals publishing COVID-19 research"
   ]
  },
  {
   "cell_type": "code",
   "execution_count": null,
   "id": "c3d4ec74",
   "metadata": {},
   "outputs": [],
   "source": [
    "top_journals = df_cleaned[\"journal\"].value_counts().head(10)\n",
    "print(top_journals)"
   ]
  },
  {
   "cell_type": "markdown",
   "id": "cdaab5a2",
   "metadata": {},
   "source": [
    "Ploting number of publications over time"
   ]
  },
  {
   "cell_type": "code",
   "execution_count": null,
   "id": "0fc4685e",
   "metadata": {},
   "outputs": [],
   "source": [
    "import matplotlib.pyplot as plt\n",
    "import seaborn as sns\n",
    "# Filter out years with zero papers (if any)\n",
    "papers_per_year = papers_per_year[papers_per_year > 0]\n",
    "\n",
    "plt.figure(figsize=(10,6))\n",
    "sns.barplot(x=papers_per_year.index, y=papers_per_year.values)\n",
    "plt.title(\"Number of Publications Over Time\", fontsize=16)\n",
    "plt.xlabel(\"Publication Year\")\n",
    "plt.ylabel(\"Number of Papers\")\n",
    "plt.xticks(rotation=45)\n",
    "plt.grid(axis='y', linestyle='--', alpha=0.7)\n",
    "plt.show()"
   ]
  },
  {
   "cell_type": "markdown",
   "id": "3e85a479",
   "metadata": {},
   "source": [
    "A bar chart of top publishing journals"
   ]
  },
  {
   "cell_type": "code",
   "execution_count": null,
   "id": "d0c741a6",
   "metadata": {},
   "outputs": [],
   "source": [
    "top_journals = df_cleaned['journal'].value_counts().head(10)\n",
    "\n",
    "plt.figure(figsize=(10,6))\n",
    "sns.barplot(y=top_journals.index, x=top_journals.values)\n",
    "plt.title(\"Top 10 Journals Publishing COVID-19 Research\", fontsize=16)\n",
    "plt.xlabel(\"Number of Papers\")\n",
    "plt.ylabel(\"Journal\")\n",
    "plt.grid(axis='x', linestyle='--', alpha=0.7)\n",
    "plt.show()"
   ]
  },
  {
   "cell_type": "markdown",
   "id": "2365c634",
   "metadata": {},
   "source": [
    "A word cloud of paper titles"
   ]
  },
  {
   "cell_type": "code",
   "execution_count": null,
   "id": "3f775cbc",
   "metadata": {},
   "outputs": [],
   "source": [
    "from wordcloud import WordCloud\n",
    "import re\n",
    "# Join all titles into one string\n",
    "all_titles = \" \".join(df_cleaned[\"title\"].dropna().astype(str))\n",
    "# Clean text\n",
    "all_titles = re.sub(r\"[^a-zA-Z ]\", \"\", all_titles)\n",
    "# Generate word cloud\n",
    "wordcloud = WordCloud(width=1200, height=600, \n",
    "                      background_color='white', \n",
    "                      max_words=100 \n",
    "                      ).generate(all_titles)\n",
    "\n",
    "plt.figure(figsize=(15,7))\n",
    "plt.imshow(wordcloud, interpolation='bilinear')\n",
    "plt.axis(\"off\")\n",
    "plt.title(\"Word Cloud of Paper Titles\", fontsize=18)\n",
    "plt.show()"
   ]
  },
  {
   "cell_type": "markdown",
   "id": "dedd5fc4",
   "metadata": {},
   "source": [
    "Ploting distribution of paper counts by source"
   ]
  },
  {
   "cell_type": "code",
   "execution_count": null,
   "id": "d8f888dc",
   "metadata": {},
   "outputs": [],
   "source": [
    "source_counts = df_cleaned['source_x'].value_counts().head(10)\n",
    "\n",
    "plt.figure(figsize=(10,6))\n",
    "sns.barplot(y=source_counts.index, x=source_counts.values)\n",
    "plt.title(\"Distribution of Papers by Source\", fontsize=16)\n",
    "plt.xlabel(\"Number of Papers\")\n",
    "plt.ylabel(\"Source\")\n",
    "plt.grid(axis='x', linestyle='--', alpha=0.7)\n",
    "plt.show()"
   ]
  }
 ],
 "metadata": {
  "kernelspec": {
   "display_name": "Python 3",
   "language": "python",
   "name": "python3"
  },
  "language_info": {
   "codemirror_mode": {
    "name": "ipython",
    "version": 3
   },
   "file_extension": ".py",
   "mimetype": "text/x-python",
   "name": "python",
   "nbconvert_exporter": "python",
   "pygments_lexer": "ipython3",
   "version": "3.10.12"
  }
 },
 "nbformat": 4,
 "nbformat_minor": 5
}
